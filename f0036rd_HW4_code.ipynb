{
  "nbformat": 4,
  "nbformat_minor": 0,
  "metadata": {
    "colab": {
      "name": "ML HW 4.ipynb",
      "provenance": []
    },
    "kernelspec": {
      "name": "python3",
      "display_name": "Python 3"
    },
    "language_info": {
      "name": "python"
    },
    "accelerator": "GPU",
    "widgets": {
      "application/vnd.jupyter.widget-state+json": {
        "cbf493a7a0e4474dbb5443be6e9e9063": {
          "model_module": "@jupyter-widgets/controls",
          "model_name": "HBoxModel",
          "model_module_version": "1.5.0",
          "state": {
            "_dom_classes": [],
            "_model_module": "@jupyter-widgets/controls",
            "_model_module_version": "1.5.0",
            "_model_name": "HBoxModel",
            "_view_count": null,
            "_view_module": "@jupyter-widgets/controls",
            "_view_module_version": "1.5.0",
            "_view_name": "HBoxView",
            "box_style": "",
            "children": [
              "IPY_MODEL_cf572eee2c6743debc44217e375370b4",
              "IPY_MODEL_e6fb932893f7486e948b946739765ecf",
              "IPY_MODEL_5ce15b25543e432da1fb1045e368ca32"
            ],
            "layout": "IPY_MODEL_4889bc6873df44de8ef91399869ed2eb"
          }
        },
        "cf572eee2c6743debc44217e375370b4": {
          "model_module": "@jupyter-widgets/controls",
          "model_name": "HTMLModel",
          "model_module_version": "1.5.0",
          "state": {
            "_dom_classes": [],
            "_model_module": "@jupyter-widgets/controls",
            "_model_module_version": "1.5.0",
            "_model_name": "HTMLModel",
            "_view_count": null,
            "_view_module": "@jupyter-widgets/controls",
            "_view_module_version": "1.5.0",
            "_view_name": "HTMLView",
            "description": "",
            "description_tooltip": null,
            "layout": "IPY_MODEL_25b86493e45e4104b2ccd44fa2416a45",
            "placeholder": "​",
            "style": "IPY_MODEL_42f1aa11448743dab8d7f14aebd14d49",
            "value": "100%"
          }
        },
        "e6fb932893f7486e948b946739765ecf": {
          "model_module": "@jupyter-widgets/controls",
          "model_name": "FloatProgressModel",
          "model_module_version": "1.5.0",
          "state": {
            "_dom_classes": [],
            "_model_module": "@jupyter-widgets/controls",
            "_model_module_version": "1.5.0",
            "_model_name": "FloatProgressModel",
            "_view_count": null,
            "_view_module": "@jupyter-widgets/controls",
            "_view_module_version": "1.5.0",
            "_view_name": "ProgressView",
            "bar_style": "success",
            "description": "",
            "description_tooltip": null,
            "layout": "IPY_MODEL_e6d1cb5970c746e58121623aba63532f",
            "max": 46830571,
            "min": 0,
            "orientation": "horizontal",
            "style": "IPY_MODEL_291fb13452e64b509a2d813c8183f9dc",
            "value": 46830571
          }
        },
        "5ce15b25543e432da1fb1045e368ca32": {
          "model_module": "@jupyter-widgets/controls",
          "model_name": "HTMLModel",
          "model_module_version": "1.5.0",
          "state": {
            "_dom_classes": [],
            "_model_module": "@jupyter-widgets/controls",
            "_model_module_version": "1.5.0",
            "_model_name": "HTMLModel",
            "_view_count": null,
            "_view_module": "@jupyter-widgets/controls",
            "_view_module_version": "1.5.0",
            "_view_name": "HTMLView",
            "description": "",
            "description_tooltip": null,
            "layout": "IPY_MODEL_7fc66ac0e41946a1834f7829278f6442",
            "placeholder": "​",
            "style": "IPY_MODEL_426e2f3cab3e4e0c8e679bf89e424518",
            "value": " 44.7M/44.7M [00:01&lt;00:00, 65.8MB/s]"
          }
        },
        "4889bc6873df44de8ef91399869ed2eb": {
          "model_module": "@jupyter-widgets/base",
          "model_name": "LayoutModel",
          "model_module_version": "1.2.0",
          "state": {
            "_model_module": "@jupyter-widgets/base",
            "_model_module_version": "1.2.0",
            "_model_name": "LayoutModel",
            "_view_count": null,
            "_view_module": "@jupyter-widgets/base",
            "_view_module_version": "1.2.0",
            "_view_name": "LayoutView",
            "align_content": null,
            "align_items": null,
            "align_self": null,
            "border": null,
            "bottom": null,
            "display": null,
            "flex": null,
            "flex_flow": null,
            "grid_area": null,
            "grid_auto_columns": null,
            "grid_auto_flow": null,
            "grid_auto_rows": null,
            "grid_column": null,
            "grid_gap": null,
            "grid_row": null,
            "grid_template_areas": null,
            "grid_template_columns": null,
            "grid_template_rows": null,
            "height": null,
            "justify_content": null,
            "justify_items": null,
            "left": null,
            "margin": null,
            "max_height": null,
            "max_width": null,
            "min_height": null,
            "min_width": null,
            "object_fit": null,
            "object_position": null,
            "order": null,
            "overflow": null,
            "overflow_x": null,
            "overflow_y": null,
            "padding": null,
            "right": null,
            "top": null,
            "visibility": null,
            "width": null
          }
        },
        "25b86493e45e4104b2ccd44fa2416a45": {
          "model_module": "@jupyter-widgets/base",
          "model_name": "LayoutModel",
          "model_module_version": "1.2.0",
          "state": {
            "_model_module": "@jupyter-widgets/base",
            "_model_module_version": "1.2.0",
            "_model_name": "LayoutModel",
            "_view_count": null,
            "_view_module": "@jupyter-widgets/base",
            "_view_module_version": "1.2.0",
            "_view_name": "LayoutView",
            "align_content": null,
            "align_items": null,
            "align_self": null,
            "border": null,
            "bottom": null,
            "display": null,
            "flex": null,
            "flex_flow": null,
            "grid_area": null,
            "grid_auto_columns": null,
            "grid_auto_flow": null,
            "grid_auto_rows": null,
            "grid_column": null,
            "grid_gap": null,
            "grid_row": null,
            "grid_template_areas": null,
            "grid_template_columns": null,
            "grid_template_rows": null,
            "height": null,
            "justify_content": null,
            "justify_items": null,
            "left": null,
            "margin": null,
            "max_height": null,
            "max_width": null,
            "min_height": null,
            "min_width": null,
            "object_fit": null,
            "object_position": null,
            "order": null,
            "overflow": null,
            "overflow_x": null,
            "overflow_y": null,
            "padding": null,
            "right": null,
            "top": null,
            "visibility": null,
            "width": null
          }
        },
        "42f1aa11448743dab8d7f14aebd14d49": {
          "model_module": "@jupyter-widgets/controls",
          "model_name": "DescriptionStyleModel",
          "model_module_version": "1.5.0",
          "state": {
            "_model_module": "@jupyter-widgets/controls",
            "_model_module_version": "1.5.0",
            "_model_name": "DescriptionStyleModel",
            "_view_count": null,
            "_view_module": "@jupyter-widgets/base",
            "_view_module_version": "1.2.0",
            "_view_name": "StyleView",
            "description_width": ""
          }
        },
        "e6d1cb5970c746e58121623aba63532f": {
          "model_module": "@jupyter-widgets/base",
          "model_name": "LayoutModel",
          "model_module_version": "1.2.0",
          "state": {
            "_model_module": "@jupyter-widgets/base",
            "_model_module_version": "1.2.0",
            "_model_name": "LayoutModel",
            "_view_count": null,
            "_view_module": "@jupyter-widgets/base",
            "_view_module_version": "1.2.0",
            "_view_name": "LayoutView",
            "align_content": null,
            "align_items": null,
            "align_self": null,
            "border": null,
            "bottom": null,
            "display": null,
            "flex": null,
            "flex_flow": null,
            "grid_area": null,
            "grid_auto_columns": null,
            "grid_auto_flow": null,
            "grid_auto_rows": null,
            "grid_column": null,
            "grid_gap": null,
            "grid_row": null,
            "grid_template_areas": null,
            "grid_template_columns": null,
            "grid_template_rows": null,
            "height": null,
            "justify_content": null,
            "justify_items": null,
            "left": null,
            "margin": null,
            "max_height": null,
            "max_width": null,
            "min_height": null,
            "min_width": null,
            "object_fit": null,
            "object_position": null,
            "order": null,
            "overflow": null,
            "overflow_x": null,
            "overflow_y": null,
            "padding": null,
            "right": null,
            "top": null,
            "visibility": null,
            "width": null
          }
        },
        "291fb13452e64b509a2d813c8183f9dc": {
          "model_module": "@jupyter-widgets/controls",
          "model_name": "ProgressStyleModel",
          "model_module_version": "1.5.0",
          "state": {
            "_model_module": "@jupyter-widgets/controls",
            "_model_module_version": "1.5.0",
            "_model_name": "ProgressStyleModel",
            "_view_count": null,
            "_view_module": "@jupyter-widgets/base",
            "_view_module_version": "1.2.0",
            "_view_name": "StyleView",
            "bar_color": null,
            "description_width": ""
          }
        },
        "7fc66ac0e41946a1834f7829278f6442": {
          "model_module": "@jupyter-widgets/base",
          "model_name": "LayoutModel",
          "model_module_version": "1.2.0",
          "state": {
            "_model_module": "@jupyter-widgets/base",
            "_model_module_version": "1.2.0",
            "_model_name": "LayoutModel",
            "_view_count": null,
            "_view_module": "@jupyter-widgets/base",
            "_view_module_version": "1.2.0",
            "_view_name": "LayoutView",
            "align_content": null,
            "align_items": null,
            "align_self": null,
            "border": null,
            "bottom": null,
            "display": null,
            "flex": null,
            "flex_flow": null,
            "grid_area": null,
            "grid_auto_columns": null,
            "grid_auto_flow": null,
            "grid_auto_rows": null,
            "grid_column": null,
            "grid_gap": null,
            "grid_row": null,
            "grid_template_areas": null,
            "grid_template_columns": null,
            "grid_template_rows": null,
            "height": null,
            "justify_content": null,
            "justify_items": null,
            "left": null,
            "margin": null,
            "max_height": null,
            "max_width": null,
            "min_height": null,
            "min_width": null,
            "object_fit": null,
            "object_position": null,
            "order": null,
            "overflow": null,
            "overflow_x": null,
            "overflow_y": null,
            "padding": null,
            "right": null,
            "top": null,
            "visibility": null,
            "width": null
          }
        },
        "426e2f3cab3e4e0c8e679bf89e424518": {
          "model_module": "@jupyter-widgets/controls",
          "model_name": "DescriptionStyleModel",
          "model_module_version": "1.5.0",
          "state": {
            "_model_module": "@jupyter-widgets/controls",
            "_model_module_version": "1.5.0",
            "_model_name": "DescriptionStyleModel",
            "_view_count": null,
            "_view_module": "@jupyter-widgets/base",
            "_view_module_version": "1.2.0",
            "_view_name": "StyleView",
            "description_width": ""
          }
        }
      }
    }
  },
  "cells": [
    {
      "cell_type": "code",
      "execution_count": 14,
      "metadata": {
        "id": "V5DMoj_VEL7P"
      },
      "outputs": [],
      "source": [
        "#Import Statements\n",
        "#PyTorch modules\n",
        "\n",
        "import torch\n",
        "import torchvision\n",
        "import torch.nn as nn\n",
        "import torch.optim as optim\n",
        "from torchvision import transforms\n",
        "from torch.utils.data import Dataset, DataLoader\n",
        "\n",
        "import glob\n",
        "\n",
        "#PIL is used to help load images\n",
        "from PIL import Image\n",
        "\n",
        "#matplotlib.pyplot will allow us to plot out our training and validation loss \n",
        "import matplotlib.pyplot as plt\n",
        "#Imshow will allow us to show our images\n",
        "from matplotlib.pyplot import imshow"
      ]
    },
    {
      "cell_type": "code",
      "source": [
        "from google.colab import drive\n",
        "drive.mount(\"/content/drive/\")"
      ],
      "metadata": {
        "colab": {
          "base_uri": "https://localhost:8080/"
        },
        "id": "RBJTQ2gKmO0g",
        "outputId": "265708c7-b61f-4a3b-d6a0-a81797df50d1"
      },
      "execution_count": 2,
      "outputs": [
        {
          "output_type": "stream",
          "name": "stdout",
          "text": [
            "Drive already mounted at /content/drive/; to attempt to forcibly remount, call drive.mount(\"/content/drive/\", force_remount=True).\n"
          ]
        }
      ]
    },
    {
      "cell_type": "code",
      "source": [
        "from torchvision import datasets, models"
      ],
      "metadata": {
        "id": "bXBhDtWOEZ7m"
      },
      "execution_count": 3,
      "outputs": []
    },
    {
      "cell_type": "markdown",
      "source": [
        "Reference:\n",
        "https://medium.com/nerd-for-tech/image-classification-using-transfer-learning-pytorch-resnet18-32b642148cbe"
      ],
      "metadata": {
        "id": "G-HvmRnVFmpZ"
      }
    },
    {
      "cell_type": "code",
      "source": [
        "transforms_train = transforms.Compose([\n",
        "    transforms.Resize((224, 224)),   #must same as here\n",
        "    transforms.RandomResizedCrop(224),\n",
        "    transforms.RandomHorizontalFlip(), # data augmentation\n",
        "    transforms.ToTensor(),\n",
        "    transforms.Normalize([0.485, 0.456, 0.406], [0.229, 0.224, 0.225]) # normalization\n",
        "])\n",
        "transforms_test = transforms.Compose([\n",
        "    transforms.Resize((224, 224)),   #must same as here\n",
        "     transforms.CenterCrop((224, 224)),\n",
        "    transforms.ToTensor(),\n",
        "    transforms.Normalize([0.485, 0.456, 0.406], [0.229, 0.224, 0.225])\n",
        "])"
      ],
      "metadata": {
        "id": "zVLshuDrEdsU"
      },
      "execution_count": 4,
      "outputs": []
    },
    {
      "cell_type": "code",
      "source": [
        "train_dir = \"/content/drive/MyDrive/ML HW 4/Fish/train\"\n",
        "val_dir = \"/content/drive/MyDrive/ML HW 4/Fish/val\"\n",
        "train_classa_dir = \"/content/drive/MyDrive/ML HW 4/Fish/train/ALF\"\n",
        "train_classb_dir = \"/content/drive/MyDrive/ML HW 4/Fish/train/NoF\"\n",
        "train_classc_dir = \"/content/drive/MyDrive/ML HW 4/Fish/train/OTHER\"\n",
        "train_classd_dir = \"/content/drive/MyDrive/ML HW 4/Fish/train/YTF\"\n",
        "val_classa_dir = \"/content/drive/MyDrive/ML HW 4/Fish/val/ALB\"\n",
        "val_classb_dir = \"/content/drive/MyDrive/ML HW 4/Fish/val/NoF\"\n",
        "val_classc_dir = \"/content/drive/MyDrive/ML HW 4/Fish/val/OTHER\"\n",
        "val_classd_dir = \"/content/drive/MyDrive/ML HW 4/Fish/val/YTF\"\n",
        "\n",
        "\n",
        "train_dataset = datasets.ImageFolder(train_dir, transforms_train)\n",
        "val_dataset = datasets.ImageFolder(val_dir, transforms_test)\n",
        "train_dataloader = torch.utils.data.DataLoader(train_dataset, batch_size=32, shuffle=True, num_workers=2)\n",
        "val_dataloader = torch.utils.data.DataLoader(val_dataset, batch_size=16, shuffle=False, num_workers=2)"
      ],
      "metadata": {
        "id": "aW1uc1_DEiNo"
      },
      "execution_count": 5,
      "outputs": []
    },
    {
      "cell_type": "code",
      "source": [
        "print('Train dataset size:', len(train_dataset))\n",
        "print('Test dataset size:', len(val_dataset))\n",
        "class_names = train_dataset.classes\n",
        "print('Class names:', class_names)"
      ],
      "metadata": {
        "id": "FNE14NlEEiP1",
        "colab": {
          "base_uri": "https://localhost:8080/"
        },
        "outputId": "2ab60cab-d19b-49af-94ad-64b2e59803f9"
      },
      "execution_count": 6,
      "outputs": [
        {
          "output_type": "stream",
          "name": "stdout",
          "text": [
            "Train dataset size: 1653\n",
            "Test dataset size: 232\n",
            "Class names: ['ALB', 'NoF', 'OTHER', 'YFT']\n"
          ]
        }
      ]
    },
    {
      "cell_type": "code",
      "source": [
        "device = torch.device(\"cuda:0\" if torch.cuda.is_available() else \"cpu\") # device object\n",
        "device"
      ],
      "metadata": {
        "colab": {
          "base_uri": "https://localhost:8080/"
        },
        "id": "PkN7ta-topZu",
        "outputId": "89f09e9c-8513-4010-e21e-21df9e975263"
      },
      "execution_count": 7,
      "outputs": [
        {
          "output_type": "execute_result",
          "data": {
            "text/plain": [
              "device(type='cpu')"
            ]
          },
          "metadata": {},
          "execution_count": 7
        }
      ]
    },
    {
      "cell_type": "markdown",
      "source": [
        "#1.1.1a1\n",
        "#Fixed Feature Extractor"
      ],
      "metadata": {
        "id": "RRO-BUsl4eKn"
      }
    },
    {
      "cell_type": "code",
      "source": [
        "#Only fine-tuning fully connected layer\n",
        "model_conv = torchvision.models.resnet18(pretrained=True)\n",
        "for param in model_conv.parameters():\n",
        "    param.requires_grad = False\n",
        "\n",
        "# Parameters of newly constructed modules have requires_grad=True by default\n",
        "num_ftrs = model_conv.fc.in_features\n",
        "model_conv.fc = nn.Linear(num_ftrs, 4)\n",
        "\n",
        "model_conv = model_conv.to(device)\n",
        "\n",
        "criterion = nn.CrossEntropyLoss()\n",
        "\n",
        "optimizer_conv = optim.SGD(model_conv.fc.parameters(), lr=0.001, momentum=0.9)\n",
        "\n",
        "#exp_lr_scheduler = lr_scheduler.StepLR(optimizer_conv, step_size=7, gamma=0.1)"
      ],
      "metadata": {
        "id": "hOkpV5j7sP0u"
      },
      "execution_count": 7,
      "outputs": []
    },
    {
      "cell_type": "markdown",
      "source": [
        "#1.1.1a.2 \n",
        "#Fine-tuning all layers"
      ],
      "metadata": {
        "id": "lnlx2Mzg3-oc"
      }
    },
    {
      "cell_type": "code",
      "source": [
        "model = models.resnet18(pretrained=True)   #load resnet18 model\n",
        "num_features = model.fc.in_features     #extract fc layers features\n",
        "model.fc = nn.Linear(num_features, 4) \n",
        "model = model.to(device) \n",
        "criterion = nn.CrossEntropyLoss()  #(set loss function)\n",
        "optimizer = optim.SGD(model.parameters(), lr=0.001, momentum=0.9)"
      ],
      "metadata": {
        "colab": {
          "base_uri": "https://localhost:8080/",
          "height": 87,
          "referenced_widgets": [
            "cbf493a7a0e4474dbb5443be6e9e9063",
            "cf572eee2c6743debc44217e375370b4",
            "e6fb932893f7486e948b946739765ecf",
            "5ce15b25543e432da1fb1045e368ca32",
            "4889bc6873df44de8ef91399869ed2eb",
            "25b86493e45e4104b2ccd44fa2416a45",
            "42f1aa11448743dab8d7f14aebd14d49",
            "e6d1cb5970c746e58121623aba63532f",
            "291fb13452e64b509a2d813c8183f9dc",
            "7fc66ac0e41946a1834f7829278f6442",
            "426e2f3cab3e4e0c8e679bf89e424518"
          ]
        },
        "id": "eL4UEBC_opcu",
        "outputId": "22e8b242-1016-43f5-efde-f64747052ea1"
      },
      "execution_count": 8,
      "outputs": [
        {
          "output_type": "stream",
          "name": "stderr",
          "text": [
            "Downloading: \"https://download.pytorch.org/models/resnet18-f37072fd.pth\" to /root/.cache/torch/hub/checkpoints/resnet18-f37072fd.pth\n"
          ]
        },
        {
          "output_type": "display_data",
          "data": {
            "text/plain": [
              "  0%|          | 0.00/44.7M [00:00<?, ?B/s]"
            ],
            "application/vnd.jupyter.widget-view+json": {
              "version_major": 2,
              "version_minor": 0,
              "model_id": "cbf493a7a0e4474dbb5443be6e9e9063"
            }
          },
          "metadata": {}
        }
      ]
    },
    {
      "cell_type": "code",
      "source": [
        "save_path = 'custom-classifier_resnet_18_final_60_last_tr_epochs.pth'\n",
        "torch.save(model.state_dict(), save_path)"
      ],
      "metadata": {
        "id": "59d8pwogsOpe"
      },
      "execution_count": 9,
      "outputs": []
    },
    {
      "cell_type": "markdown",
      "source": [
        "#1.1.1ac\n",
        "#Resnet from Scratch"
      ],
      "metadata": {
        "id": "Lm4wV8sd4jVA"
      }
    },
    {
      "cell_type": "code",
      "source": [
        "#Model from scratch\n",
        "\n",
        "model_scratch = torchvision.models.resnet18(pretrained=False)\n",
        "\n",
        "\n",
        "\n",
        "num_ftrs = model_scratch.fc.in_features\n",
        "model_scratch.fc = nn.Linear(num_ftrs, 4)\n",
        "\n",
        "model_scratch = model_scratch.to(device)\n",
        "\n",
        "criterion = nn.CrossEntropyLoss()\n",
        "\n",
        "optimizer_scratch = optim.SGD(model_scratch.fc.parameters(), lr=0.001, momentum=0.9)\n",
        "\n",
        "# Decay LR by a factor of 0.1 every 7 epochs\n",
        "#exp_lr_scheduler = lr_scheduler.StepLR(optimizer_conv, step_size=7, gamma=0.1)"
      ],
      "metadata": {
        "id": "Nszm3a97sP-e"
      },
      "execution_count": 22,
      "outputs": []
    },
    {
      "cell_type": "markdown",
      "source": [
        "#1.1.1B\n",
        "\n",
        "#Differences in Training\n",
        "\n",
        "I predict that of the three types of models, the most accurate will be the pre-trained ResNet that has all layers fine-tuned. This makes intuitive sense - a more trained model should have better accuracy. However, I also predict that this process will take longer to train than the others.\n",
        "\n",
        "The fixed-feature extractor should perform relatively poorly but also might train faster.\n",
        "\n",
        "The ResNet from scratch in theory should have the highest accuracy if allowed to train for a significant amount of time - that being said, it might not be practical to allow the model to train for this amount of time on a single GPU.\n",
        "\n",
        "All being said, if I had more GPU cores I would likely choose the untrained ResNet but in this test case I would instead opt for the pre-trained ResNet with all layers fine-tuned."
      ],
      "metadata": {
        "id": "qVZzEhPm4nn8"
      }
    },
    {
      "cell_type": "code",
      "source": [
        "device = torch.device(\"cuda:0\" if torch.cuda.is_available() else \"cpu\")\n",
        "device"
      ],
      "metadata": {
        "colab": {
          "base_uri": "https://localhost:8080/"
        },
        "id": "3Lb42bBMyPhc",
        "outputId": "87d536ac-c976-456c-cebf-1203747ed972"
      },
      "execution_count": 47,
      "outputs": [
        {
          "output_type": "execute_result",
          "data": {
            "text/plain": [
              "device(type='cuda', index=0)"
            ]
          },
          "metadata": {},
          "execution_count": 47
        }
      ]
    },
    {
      "cell_type": "markdown",
      "source": [
        "#1.1.2\n"
      ],
      "metadata": {
        "id": "jkEeqNG-7Olu"
      }
    },
    {
      "cell_type": "markdown",
      "source": [
        "#Training Fixed Feature Extractor"
      ],
      "metadata": {
        "id": "qQeaurxL7KA4"
      }
    },
    {
      "cell_type": "code",
      "source": [
        "import time\n",
        "ffe_train_loss = [] #for history \n",
        "ffe_val_loss = []\n",
        "num_epochs = 10   #(set no of epochs)\n",
        "start_time = time.time() #(for showing time)\n",
        "for epoch in range(num_epochs): #(loop for every epoch)\n",
        "    print(\"Epoch {} running\".format(epoch)) #(printing message)\n",
        "    \"\"\" Training Phase \"\"\"\n",
        "    model_conv.train()    #(training model)\n",
        "    #print(\"check\")\n",
        "    running_loss = 0.   #(set loss 0)\n",
        "    running_corrects = 0 \n",
        "    # load a batch data of images\n",
        "    #print(\"check 1\")\n",
        "    for i, (inputs, labels) in enumerate(train_dataloader):\n",
        "        #print(\"check2\")\n",
        "        inputs = inputs.to(device)\n",
        "        labels = labels.to(device) \n",
        "        # forward inputs and get output\n",
        "        optimizer_conv.zero_grad()\n",
        "        outputs = model_conv(inputs)\n",
        "        _, preds = torch.max(outputs, 1)\n",
        "        loss = criterion(outputs, labels)\n",
        "        # get loss value and update the network weights\n",
        "        loss.backward()\n",
        "        optimizer_conv.step()\n",
        "        running_loss += loss.item() * inputs.size(0)\n",
        "        running_corrects += torch.sum(preds == labels.data)\n",
        "    epoch_loss = running_loss / len(train_dataset)\n",
        "    ffe_train_loss.append(epoch_loss)\n",
        "    epoch_acc = running_corrects / len(train_dataset) * 100.\n",
        "    print('[Train #{}] Loss: {:.4f} Acc: {:.4f}% Time: {:.4f}s'.format(epoch, epoch_loss, epoch_acc, time.time() -start_time))\n",
        "    \n",
        "    \"\"\" Testing Phase \"\"\"\n",
        "    model_conv.eval()\n",
        "    with torch.no_grad():\n",
        "        running_loss = 0.\n",
        "        running_corrects = 0\n",
        "        for inputs, labels in val_dataloader:\n",
        "            inputs = inputs.to(device)\n",
        "            labels = labels.to(device)\n",
        "            outputs = model_conv(inputs)\n",
        "            _, preds = torch.max(outputs, 1)\n",
        "            loss = criterion(outputs, labels)\n",
        "            running_loss += loss.item() * inputs.size(0)\n",
        "            running_corrects += torch.sum(preds == labels.data)\n",
        "        epoch_loss = running_loss / len(val_dataset)\n",
        "        ffe_val_loss.append(epoch_loss)\n",
        "        epoch_acc = running_corrects / len(val_dataset) * 100.\n",
        "        print('[Val #{}] Loss: {:.4f} Acc: {:.4f}% Time: {:.4f}s'.format(epoch, epoch_loss, epoch_acc, time.time()- start_time))"
      ],
      "metadata": {
        "colab": {
          "base_uri": "https://localhost:8080/"
        },
        "id": "-kutGbV4sP3M",
        "outputId": "e8f897c7-0c69-4001-a870-3616bfffb3d1"
      },
      "execution_count": 8,
      "outputs": [
        {
          "output_type": "stream",
          "name": "stdout",
          "text": [
            "Epoch 0 running\n",
            "[Train #0] Loss: 1.2961 Acc: 43.4362% Time: 90.9473s\n",
            "[Val #0] Loss: 1.1073 Acc: 54.3103% Time: 200.3395s\n",
            "Epoch 1 running\n",
            "[Train #1] Loss: 1.0739 Acc: 53.9020% Time: 230.2549s\n",
            "[Val #1] Loss: 0.9771 Acc: 57.7586% Time: 234.5721s\n",
            "Epoch 2 running\n",
            "[Train #2] Loss: 1.0221 Acc: 58.3787% Time: 264.5013s\n",
            "[Val #2] Loss: 0.9366 Acc: 60.3448% Time: 268.8104s\n",
            "Epoch 3 running\n",
            "[Train #3] Loss: 0.9664 Acc: 60.9800% Time: 298.5967s\n",
            "[Val #3] Loss: 0.9267 Acc: 62.9310% Time: 302.8860s\n",
            "Epoch 4 running\n",
            "[Train #4] Loss: 0.9392 Acc: 60.9195% Time: 332.8011s\n",
            "[Val #4] Loss: 0.8892 Acc: 61.6379% Time: 337.0726s\n",
            "Epoch 5 running\n",
            "[Train #5] Loss: 0.9064 Acc: 62.3109% Time: 366.7263s\n",
            "[Val #5] Loss: 0.8876 Acc: 61.2069% Time: 371.0067s\n",
            "Epoch 6 running\n",
            "[Train #6] Loss: 0.8829 Acc: 63.6419% Time: 400.9143s\n",
            "[Val #6] Loss: 0.8762 Acc: 61.6379% Time: 405.2682s\n",
            "Epoch 7 running\n",
            "[Train #7] Loss: 0.8828 Acc: 63.6419% Time: 435.2114s\n",
            "[Val #7] Loss: 0.8746 Acc: 64.6552% Time: 439.5543s\n",
            "Epoch 8 running\n",
            "[Train #8] Loss: 0.8574 Acc: 63.9443% Time: 469.5067s\n",
            "[Val #8] Loss: 0.8840 Acc: 62.5000% Time: 473.8257s\n",
            "Epoch 9 running\n",
            "[Train #9] Loss: 0.8569 Acc: 64.7913% Time: 505.3265s\n",
            "[Val #9] Loss: 0.8385 Acc: 65.5172% Time: 509.7094s\n"
          ]
        }
      ]
    },
    {
      "cell_type": "code",
      "source": [
        "import matplotlib.pyplot as plt\n",
        "plt.plot(ffe_train_loss, label = \"Training\")\n",
        "plt.plot(ffe_val_loss, label = \"Val\")\n",
        "plt.title(\"Loss Curves for FFE\")\n",
        "plt.ylabel(\"Loss\")\n",
        "plt.xlabel(\"Epoch\")\n",
        "plt.legend()\n",
        "plt.show\n"
      ],
      "metadata": {
        "colab": {
          "base_uri": "https://localhost:8080/",
          "height": 313
        },
        "id": "P3OnPnjGCZAH",
        "outputId": "1bd221fd-9295-443e-9f19-32543dac7868"
      },
      "execution_count": 14,
      "outputs": [
        {
          "output_type": "execute_result",
          "data": {
            "text/plain": [
              "<function matplotlib.pyplot.show>"
            ]
          },
          "metadata": {},
          "execution_count": 14
        },
        {
          "output_type": "display_data",
          "data": {
            "text/plain": [
              "<Figure size 432x288 with 1 Axes>"
            ],
            "image/png": "[encoded data removed]"
          },
          "metadata": {
            "needs_background": "light"
          }
        }
      ]
    },
    {
      "cell_type": "markdown",
      "source": [
        "#Training Pre-Trained Model w/ All Layers"
      ],
      "metadata": {
        "id": "lr8Y-4Nm7T02"
      }
    },
    {
      "cell_type": "code",
      "source": [
        "import time\n",
        "from sklearn.metrics import f1_score\n",
        "pt_train_loss = []\n",
        "pt_val_loss = []\n",
        "pt_preds = []\n",
        "pt_labels = []\n",
        "f1_scores = []\n",
        "num_epochs = 10   #(set no of epochs)\n",
        "start_time = time.time() #(for showing time)\n",
        "for epoch in range(num_epochs): #(loop for every epoch)\n",
        "    print(\"Epoch {} running\".format(epoch)) #(printing message)\n",
        "    \"\"\" Training Phase \"\"\"\n",
        "    model.train()    #(training model)\n",
        "    #print(\"check\")\n",
        "    running_loss = 0.   #(set loss 0)\n",
        "    running_corrects = 0 \n",
        "    # load a batch data of images\n",
        "    #print(\"check 1\")\n",
        "    for i, (inputs, labels) in enumerate(train_dataloader):\n",
        "        #print(\"check2\")\n",
        "        inputs = inputs.to(device)\n",
        "        labels = labels.to(device)\n",
        "        pt_labels.append(labels) \n",
        "        # forward inputs and get output\n",
        "        optimizer.zero_grad()\n",
        "        outputs = model(inputs)\n",
        "        _, preds = torch.max(outputs, 1)\n",
        "        pt_preds.append(preds)\n",
        "        loss = criterion(outputs, labels)\n",
        "        # get loss value and update the network weights\n",
        "        loss.backward()\n",
        "        optimizer.step()\n",
        "        running_loss += loss.item() * inputs.size(0)\n",
        "        running_corrects += torch.sum(preds == labels.data)\n",
        "    epoch_loss = running_loss / len(train_dataset)\n",
        "    pt_train_loss.append(epoch_loss)\n",
        "    epoch_acc = running_corrects / len(train_dataset) * 100.\n",
        "    print('[Train #{}] Loss: {:.4f} Acc: {:.4f}% Time: {:.4f}s'.format(epoch, epoch_loss, epoch_acc, time.time() -start_time))\n",
        "    \n",
        "    \"\"\" Testing Phase \"\"\"\n",
        "    model.eval()\n",
        "    with torch.no_grad():\n",
        "        running_loss = 0.\n",
        "        running_corrects = 0\n",
        "        for inputs, labels in val_dataloader:\n",
        "            inputs = inputs.to(device)\n",
        "            labels = labels.to(device)\n",
        "            outputs = model(inputs)\n",
        "            _, preds = torch.max(outputs, 1)\n",
        "            loss = criterion(outputs, labels)\n",
        "            running_loss += loss.item() * inputs.size(0)\n",
        "            running_corrects += torch.sum(preds == labels.data)\n",
        "            f1_scores.append(f1_score(labels.data.cpu(), preds.cpu(), average = \"weighted\"))\n",
        "        epoch_loss = running_loss / len(val_dataset)\n",
        "        pt_val_loss.append(epoch_loss)\n",
        "        epoch_acc = running_corrects / len(val_dataset) * 100.\n",
        "        print('[Val #{}] Loss: {:.4f} Acc: {:.4f}% Time: {:.4f}s'.format(epoch, epoch_loss, epoch_acc, time.time()- start_time))"
      ],
      "metadata": {
        "colab": {
          "base_uri": "https://localhost:8080/"
        },
        "id": "2ApWYDrXozg_",
        "outputId": "3b310d36-3173-4b98-c537-8aaa1b062bda"
      },
      "execution_count": 49,
      "outputs": [
        {
          "output_type": "stream",
          "name": "stdout",
          "text": [
            "Epoch 0 running\n",
            "[Train #0] Loss: 0.1870 Acc: 93.1639% Time: 31.1291s\n",
            "[Val #0] Loss: 0.4175 Acc: 87.0690% Time: 35.4384s\n",
            "Epoch 1 running\n",
            "[Train #1] Loss: 0.1836 Acc: 93.4059% Time: 66.5925s\n",
            "[Val #1] Loss: 0.3522 Acc: 90.0862% Time: 70.9379s\n",
            "Epoch 2 running\n",
            "[Train #2] Loss: 0.1521 Acc: 94.3739% Time: 105.8724s\n",
            "[Val #2] Loss: 0.3490 Acc: 90.9483% Time: 110.1309s\n",
            "Epoch 3 running\n",
            "[Train #3] Loss: 0.1730 Acc: 93.6479% Time: 141.5107s\n",
            "[Val #3] Loss: 0.3533 Acc: 88.7931% Time: 145.8618s\n",
            "Epoch 4 running\n",
            "[Train #4] Loss: 0.1626 Acc: 93.8294% Time: 177.2016s\n",
            "[Val #4] Loss: 0.3163 Acc: 90.5172% Time: 181.5256s\n",
            "Epoch 5 running\n",
            "[Train #5] Loss: 0.1546 Acc: 94.5554% Time: 212.7558s\n",
            "[Val #5] Loss: 0.3713 Acc: 87.9310% Time: 217.0842s\n",
            "Epoch 6 running\n",
            "[Train #6] Loss: 0.1474 Acc: 94.4949% Time: 248.3761s\n",
            "[Val #6] Loss: 0.3869 Acc: 87.5000% Time: 252.6889s\n",
            "Epoch 7 running\n",
            "[Train #7] Loss: 0.1390 Acc: 95.1603% Time: 284.0196s\n",
            "[Val #7] Loss: 0.3618 Acc: 90.0862% Time: 288.3058s\n",
            "Epoch 8 running\n",
            "[Train #8] Loss: 0.1336 Acc: 95.2813% Time: 319.6412s\n",
            "[Val #8] Loss: 0.3440 Acc: 90.9483% Time: 323.9702s\n",
            "Epoch 9 running\n",
            "[Train #9] Loss: 0.1312 Acc: 94.9788% Time: 355.0538s\n",
            "[Val #9] Loss: 0.3309 Acc: 90.5172% Time: 359.3638s\n"
          ]
        }
      ]
    },
    {
      "cell_type": "code",
      "source": [
        "import matplotlib.pyplot as plt\n",
        "plt.plot(pt_train_loss, label = \"Training\")\n",
        "plt.plot(pt_val_loss, label = \"Val\")\n",
        "plt.title(\"Loss Curves for FFE\")\n",
        "plt.ylabel(\"Loss\")\n",
        "plt.xlabel(\"Epoch\")\n",
        "plt.legend()\n",
        "plt.show"
      ],
      "metadata": {
        "colab": {
          "base_uri": "https://localhost:8080/",
          "height": 313
        },
        "id": "aexOA2fZDfHe",
        "outputId": "ed978e9e-bc4e-4a95-fd29-469248a76c64"
      },
      "execution_count": 19,
      "outputs": [
        {
          "output_type": "execute_result",
          "data": {
            "text/plain": [
              "<function matplotlib.pyplot.show>"
            ]
          },
          "metadata": {},
          "execution_count": 19
        },
        {
          "output_type": "display_data",
          "data": {
            "text/plain": [
              "<Figure size 432x288 with 1 Axes>"
            ],
            "image/png": "[encoded data removed]"
          },
          "metadata": {
            "needs_background": "light"
          }
        }
      ]
    },
    {
      "cell_type": "markdown",
      "source": [
        "#Training Model from Scratch"
      ],
      "metadata": {
        "id": "zs0zolk67Xyo"
      }
    },
    {
      "cell_type": "code",
      "source": [
        "import time\n",
        "scratch_train_loss = []\n",
        "scratch_val_loss = []\n",
        "num_epochs = 10   #(set no of epochs)\n",
        "start_time = time.time() #(for showing time)\n",
        "for epoch in range(num_epochs): #(loop for every epoch)\n",
        "    print(\"Epoch {} running\".format(epoch)) #(printing message)\n",
        "    \"\"\" Training Phase \"\"\"\n",
        "    model_scratch.train()    #(training model)\n",
        "    #print(\"check\")\n",
        "    running_loss = 0.   #(set loss 0)\n",
        "    running_corrects = 0 \n",
        "    # load a batch data of images\n",
        "    #print(\"check 1\")\n",
        "    for i, (inputs, labels) in enumerate(train_dataloader):\n",
        "        #print(\"check2\")\n",
        "        inputs = inputs.to(device)\n",
        "        labels = labels.to(device) \n",
        "        # forward inputs and get output\n",
        "        optimizer_scratch.zero_grad()\n",
        "        outputs = model_scratch(inputs)\n",
        "        _, preds = torch.max(outputs, 1)\n",
        "        loss = criterion(outputs, labels)\n",
        "        # get loss value and update the network weights\n",
        "        loss.backward()\n",
        "        optimizer_scratch.step()\n",
        "        running_loss += loss.item() * inputs.size(0)\n",
        "        running_corrects += torch.sum(preds == labels.data)\n",
        "    epoch_loss = running_loss / len(train_dataset)\n",
        "    scratch_train_loss.append(epoch_loss)\n",
        "    epoch_acc = running_corrects / len(train_dataset) * 100.\n",
        "    print('[Train #{}] Loss: {:.4f} Acc: {:.4f}% Time: {:.4f}s'.format(epoch, epoch_loss, epoch_acc, time.time() -start_time))\n",
        "    \n",
        "    \"\"\" Testing Phase \"\"\"\n",
        "    model_scratch.eval()\n",
        "    with torch.no_grad():\n",
        "        running_loss = 0.\n",
        "        running_corrects = 0\n",
        "        for inputs, labels in val_dataloader:\n",
        "            inputs = inputs.to(device)\n",
        "            labels = labels.to(device)\n",
        "            outputs = model_scratch(inputs)\n",
        "            _, preds = torch.max(outputs, 1)\n",
        "            loss = criterion(outputs, labels)\n",
        "            running_loss += loss.item() * inputs.size(0)\n",
        "            running_corrects += torch.sum(preds == labels.data)\n",
        "        epoch_loss = running_loss / len(val_dataset)\n",
        "        scratch_val_loss.append(epoch_loss)\n",
        "        epoch_acc = running_corrects / len(val_dataset) * 100.\n",
        "        print('[Val #{}] Loss: {:.4f} Acc: {:.4f}% Time: {:.4f}s'.format(epoch, epoch_loss, epoch_acc, time.time()- start_time))"
      ],
      "metadata": {
        "colab": {
          "base_uri": "https://localhost:8080/"
        },
        "id": "iRhAcioB5qR3",
        "outputId": "4c023415-fd46-47ed-8457-7bfeb11b63ef"
      },
      "execution_count": 23,
      "outputs": [
        {
          "output_type": "stream",
          "name": "stdout",
          "text": [
            "Epoch 0 running\n",
            "[Train #0] Loss: 1.3116 Acc: 37.0841% Time: 33.5999s\n",
            "[Val #0] Loss: 1.2729 Acc: 40.9483% Time: 37.9349s\n",
            "Epoch 1 running\n",
            "[Train #1] Loss: 1.2691 Acc: 40.2904% Time: 70.6907s\n",
            "[Val #1] Loss: 1.2511 Acc: 43.9655% Time: 75.0064s\n",
            "Epoch 2 running\n",
            "[Train #2] Loss: 1.2506 Acc: 41.8028% Time: 106.2862s\n",
            "[Val #2] Loss: 1.3149 Acc: 37.0690% Time: 110.5181s\n",
            "Epoch 3 running\n",
            "[Train #3] Loss: 1.2394 Acc: 42.2868% Time: 141.8987s\n",
            "[Val #3] Loss: 1.2214 Acc: 43.5345% Time: 146.1870s\n",
            "Epoch 4 running\n",
            "[Train #4] Loss: 1.2341 Acc: 43.3757% Time: 177.2541s\n",
            "[Val #4] Loss: 1.2497 Acc: 43.5345% Time: 181.5357s\n",
            "Epoch 5 running\n",
            "[Train #5] Loss: 1.2269 Acc: 44.1016% Time: 212.8192s\n",
            "[Val #5] Loss: 1.2259 Acc: 40.9483% Time: 217.0612s\n",
            "Epoch 6 running\n",
            "[Train #6] Loss: 1.2229 Acc: 45.1301% Time: 248.1896s\n",
            "[Val #6] Loss: 1.2735 Acc: 40.9483% Time: 252.4864s\n",
            "Epoch 7 running\n",
            "[Train #7] Loss: 1.2306 Acc: 42.6497% Time: 283.7755s\n",
            "[Val #7] Loss: 1.2114 Acc: 43.1034% Time: 288.0574s\n",
            "Epoch 8 running\n",
            "[Train #8] Loss: 1.2301 Acc: 42.1053% Time: 319.4152s\n",
            "[Val #8] Loss: 1.2615 Acc: 39.2241% Time: 323.6601s\n",
            "Epoch 9 running\n",
            "[Train #9] Loss: 1.2059 Acc: 45.7350% Time: 354.7030s\n",
            "[Val #9] Loss: 1.2011 Acc: 46.1207% Time: 358.9687s\n"
          ]
        }
      ]
    },
    {
      "cell_type": "code",
      "source": [
        "import matplotlib.pyplot as plt\n",
        "plt.plot(scratch_train_loss, label = \"Training\")\n",
        "plt.plot(scratch_val_loss, label = \"Val\")\n",
        "plt.title(\"Loss Curves for FFE\")\n",
        "plt.ylabel(\"Loss\")\n",
        "plt.xlabel(\"Epoch\")\n",
        "plt.legend()\n",
        "plt.show"
      ],
      "metadata": {
        "colab": {
          "base_uri": "https://localhost:8080/",
          "height": 313
        },
        "id": "rU09CX0X8lBf",
        "outputId": "c697f078-ddd3-491b-a138-aec153f0fdf0"
      },
      "execution_count": 27,
      "outputs": [
        {
          "output_type": "execute_result",
          "data": {
            "text/plain": [
              "<function matplotlib.pyplot.show>"
            ]
          },
          "metadata": {},
          "execution_count": 27
        },
        {
          "output_type": "display_data",
          "data": {
            "text/plain": [
              "<Figure size 432x288 with 1 Axes>"
            ],
            "image/png": "[encoded data removed]"
          },
          "metadata": {
            "needs_background": "light"
          }
        }
      ]
    },
    {
      "cell_type": "code",
      "source": [
        ""
      ],
      "metadata": {
        "id": "J6-_KljOKDVP"
      },
      "execution_count": null,
      "outputs": []
    },
    {
      "cell_type": "markdown",
      "source": [
        "#1.2B\n",
        "\n",
        "#Finding statistics on best model\n",
        "\n",
        "Our best model was the fully fine-tuned model"
      ],
      "metadata": {
        "id": "XLGf2DyHKD_h"
      }
    },
    {
      "cell_type": "markdown",
      "source": [
        "#Confusion Matrix"
      ],
      "metadata": {
        "id": "aSmM4snkSONo"
      }
    },
    {
      "cell_type": "markdown",
      "source": [
        "Reference: https://leslietj.github.io/2020/06/22/Draw-Confusion-Matrix-for-CNN-models/\n",
        "\n",
        "Reference: \n",
        "https://stackoverflow.com/questions/53290306/confusion-matrix-and-test-accuracy-for-pytorch-transfer-learning-tutorial"
      ],
      "metadata": {
        "id": "rawpDubuNKLG"
      }
    },
    {
      "cell_type": "code",
      "source": [
        "nb_classes = 4\n",
        "\n",
        "confusion_matrix = torch.zeros(nb_classes, nb_classes)\n",
        "with torch.no_grad():\n",
        "    for i, (inputs, classes) in enumerate(val_dataloader):\n",
        "        inputs = inputs.to(device)\n",
        "        classes = classes.to(device)\n",
        "        outputs = model(inputs)\n",
        "        _, preds = torch.max(outputs, 1)\n",
        "        for t, p in zip(classes.view(-1), preds.view(-1)):\n",
        "                confusion_matrix[t.long(), p.long()] += 1\n",
        "\n",
        "print(confusion_matrix)\n",
        "\n",
        "\n",
        "\n"
      ],
      "metadata": {
        "colab": {
          "base_uri": "https://localhost:8080/"
        },
        "id": "tFvPLmwBRYZ9",
        "outputId": "571d7601-84fb-4e1e-badd-83a90eec7123"
      },
      "execution_count": 37,
      "outputs": [
        {
          "output_type": "stream",
          "name": "stdout",
          "text": [
            "tensor([[67.,  7.,  2.,  7.],\n",
            "        [ 6., 40.,  0.,  0.],\n",
            "        [ 2.,  0., 23.,  5.],\n",
            "        [ 1.,  0.,  1., 71.]])\n"
          ]
        }
      ]
    },
    {
      "cell_type": "markdown",
      "source": [
        "#Per-Class Accuracy"
      ],
      "metadata": {
        "id": "w2_uoI7JSUZd"
      }
    },
    {
      "cell_type": "code",
      "source": [
        "print(confusion_matrix.diag()/confusion_matrix.sum(1))\n"
      ],
      "metadata": {
        "colab": {
          "base_uri": "https://localhost:8080/"
        },
        "id": "HAjEjiGkSWNg",
        "outputId": "33a44090-c1f1-4d3e-f27c-eda0518f9f57"
      },
      "execution_count": 36,
      "outputs": [
        {
          "output_type": "stream",
          "name": "stdout",
          "text": [
            "tensor([0.8072, 0.8696, 0.7667, 0.9726])\n"
          ]
        }
      ]
    },
    {
      "cell_type": "markdown",
      "source": [
        "#F1 Score"
      ],
      "metadata": {
        "id": "0zQ3HYe3Svsm"
      }
    },
    {
      "cell_type": "code",
      "source": [
        "#gathered above, printed here for convenience\n",
        "print(f1_scores[-1])"
      ],
      "metadata": {
        "colab": {
          "base_uri": "https://localhost:8080/"
        },
        "id": "jhu-AwHkSxJ1",
        "outputId": "345545b9-ead4-48ed-ca96-334332211f95"
      },
      "execution_count": 51,
      "outputs": [
        {
          "output_type": "stream",
          "name": "stdout",
          "text": [
            "1.0\n"
          ]
        }
      ]
    },
    {
      "cell_type": "markdown",
      "source": [
        "#Making Predictions on Test Set"
      ],
      "metadata": {
        "id": "7sxxTGnkYItC"
      }
    },
    {
      "cell_type": "code",
      "source": [
        " # Imports\n",
        "import os\n",
        "from PIL import Image\n",
        "from torch.utils.data import Dataset\n",
        "#from natsort import natsorted\n",
        "from torchvision import datasets,transforms\n",
        "from skimage import io, transform"
      ],
      "metadata": {
        "id": "67Nn2GGrwIEI"
      },
      "execution_count": 10,
      "outputs": []
    },
    {
      "cell_type": "code",
      "source": [
        "class MyDataset(Dataset):\n",
        "  def __init__ (self, image_paths, transform=None) :\n",
        "    self.image_paths = image_paths\n",
        "    self.transform = transform\n",
        "    self.all_imgs = os.listdir(image_paths)\n",
        "\n",
        "  def __getitem__(self, index) :\n",
        "    img_loc = os.path.join(self.image_paths, self.all_imgs[index])\n",
        "    x= Image.open(img_loc)\n",
        "    if self.transform is not None:\n",
        "      x=self.transform(x)\n",
        "    sample = {'image': x, 'filename': self.all_imgs[index]}\n",
        "    return sample\n",
        "  \n",
        "  def __len__(self):\n",
        "    return len(self.all_imgs)\n",
        "\n"
      ],
      "metadata": {
        "id": "6uELke76YK7U"
      },
      "execution_count": 33,
      "outputs": []
    },
    {
      "cell_type": "code",
      "source": [
        "test_set= MyDataset(\"/content/drive/MyDrive/ML HW 4/Fish/test1/test\", transform = transforms_test)\n",
        "test_loader = torch.utils.data.DataLoader(test_set, batch_size=16, shuffle=False, num_workers=1)"
      ],
      "metadata": {
        "id": "TlPmbVwaw5Kt"
      },
      "execution_count": 37,
      "outputs": []
    },
    {
      "cell_type": "code",
      "source": [
        "len(test_set)"
      ],
      "metadata": {
        "colab": {
          "base_uri": "https://localhost:8080/"
        },
        "id": "Ut6HR0jjyRdp",
        "outputId": "fe812770-055c-4a65-99fa-ddb8e6d84a79"
      },
      "execution_count": 38,
      "outputs": [
        {
          "output_type": "execute_result",
          "data": {
            "text/plain": [
              "465"
            ]
          },
          "metadata": {},
          "execution_count": 38
        }
      ]
    },
    {
      "cell_type": "code",
      "source": [
        "test_preds = []\n",
        "imgs = []\n",
        "\n",
        "\n",
        "with torch.no_grad():\n",
        "    for i, inputs in enumerate(test_loader):\n",
        "        inputs = inputs[\"image\"].to(device)\n",
        "        outputs = model(inputs)\n",
        "        #classes = classes.to(device)\n",
        "        #outputs = model(inputs)\n",
        "        _, preds = torch.max(outputs, 1)\n",
        "        for j in range(inputs.size()[0]):\n",
        "          test_preds.append(class_names[preds[j]])\n"
      ],
      "metadata": {
        "id": "mGGQntTEgsPA"
      },
      "execution_count": 39,
      "outputs": []
    },
    {
      "cell_type": "code",
      "source": [
        "import pandas as pd\n",
        "pd.Series(test_preds).value_counts()"
      ],
      "metadata": {
        "colab": {
          "base_uri": "https://localhost:8080/"
        },
        "id": "Watzo4lH1i4O",
        "outputId": "5325ddd0-4f8a-4922-abea-6e6e76c0ba5d"
      },
      "execution_count": 42,
      "outputs": [
        {
          "output_type": "execute_result",
          "data": {
            "text/plain": [
              "ALB      201\n",
              "NoF      128\n",
              "OTHER    125\n",
              "YFT       11\n",
              "dtype: int64"
            ]
          },
          "metadata": {},
          "execution_count": 42
        }
      ]
    },
    {
      "cell_type": "code",
      "source": [
        "imgs = test_set.all_imgs\n",
        "zipped = list(zip(imgs, test_preds))\n",
        "final=pd.DataFrame(zipped)\n"
      ],
      "metadata": {
        "id": "YOo3hI8c3rcq"
      },
      "execution_count": 46,
      "outputs": []
    },
    {
      "cell_type": "code",
      "source": [
        "final.to_csv(\"f0036rd_CNN_predictions.csv\", index = False)"
      ],
      "metadata": {
        "id": "szHHZBUB4W_W"
      },
      "execution_count": 48,
      "outputs": []
    },
    {
      "cell_type": "markdown",
      "source": [
        "#Question 2"
      ],
      "metadata": {
        "id": "r6_M0Q51F7Wp"
      }
    },
    {
      "cell_type": "code",
      "source": [
        "#packages\n",
        "import pandas as pd\n",
        "import numpy as np\n",
        "from keras.layers import LSTM, Activation, Dropout, Dense, Input\n",
        "from keras.layers.embeddings import Embedding\n",
        "from keras.models import Model\n",
        "import string\n",
        "import re\n",
        "from keras.preprocessing.text import Tokenizer\n",
        "from sklearn.preprocessing import LabelBinarizer\n",
        "from keras.preprocessing.sequence import pad_sequences\n",
        "import keras\n",
        "from sklearn.model_selection import train_test_split"
      ],
      "metadata": {
        "colab": {
          "base_uri": "https://localhost:8080/"
        },
        "id": "IMhwjR3FF9fm",
        "outputId": "229e8b2e-2cd2-49c1-fc5c-dcdb3ed0c57f"
      },
      "execution_count": 49,
      "outputs": [
        {
          "output_type": "stream",
          "name": "stderr",
          "text": [
            "Exception in thread QueueFeederThread:\n",
            "Traceback (most recent call last):\n",
            "  File \"/usr/lib/python3.7/multiprocessing/queues.py\", line 232, in _feed\n",
            "    close()\n",
            "  File \"/usr/lib/python3.7/multiprocessing/connection.py\", line 177, in close\n",
            "    self._close()\n",
            "  File \"/usr/lib/python3.7/multiprocessing/connection.py\", line 361, in _close\n",
            "    _close(self._handle)\n",
            "OSError: [Errno 9] Bad file descriptor\n",
            "\n",
            "During handling of the above exception, another exception occurred:\n",
            "\n",
            "Traceback (most recent call last):\n",
            "  File \"/usr/lib/python3.7/threading.py\", line 926, in _bootstrap_inner\n",
            "    self.run()\n",
            "  File \"/usr/lib/python3.7/threading.py\", line 870, in run\n",
            "    self._target(*self._args, **self._kwargs)\n",
            "  File \"/usr/lib/python3.7/multiprocessing/queues.py\", line 263, in _feed\n",
            "    queue_sem.release()\n",
            "ValueError: semaphore or lock released too many times\n",
            "\n",
            "Exception in thread QueueFeederThread:\n",
            "Traceback (most recent call last):\n",
            "  File \"/usr/lib/python3.7/multiprocessing/queues.py\", line 232, in _feed\n",
            "    close()\n",
            "  File \"/usr/lib/python3.7/multiprocessing/connection.py\", line 177, in close\n",
            "    self._close()\n",
            "  File \"/usr/lib/python3.7/multiprocessing/connection.py\", line 361, in _close\n",
            "    _close(self._handle)\n",
            "OSError: [Errno 9] Bad file descriptor\n",
            "\n",
            "During handling of the above exception, another exception occurred:\n",
            "\n",
            "Traceback (most recent call last):\n",
            "  File \"/usr/lib/python3.7/threading.py\", line 926, in _bootstrap_inner\n",
            "    self.run()\n",
            "  File \"/usr/lib/python3.7/threading.py\", line 870, in run\n",
            "    self._target(*self._args, **self._kwargs)\n",
            "  File \"/usr/lib/python3.7/multiprocessing/queues.py\", line 263, in _feed\n",
            "    queue_sem.release()\n",
            "ValueError: semaphore or lock released too many times\n",
            "\n"
          ]
        }
      ]
    },
    {
      "cell_type": "markdown",
      "source": [
        "References:\n",
        "https://stackoverflow.com/questions/44924690/keras-the-difference-between-lstm-dropout-and-lstm-recurrent-dropout\n",
        "https://towardsdatascience.com/word-embeddings-and-the-chamber-of-secrets-lstm-gru-tf-keras-de3f5c21bf16\n",
        "https://towardsdatascience.com/multi-class-text-classification-with-lstm-1590bee1bd17\n",
        "https://towardsdatascience.com/sentiment-analysis-using-lstm-and-glove-embeddings-99223a87fe8e"
      ],
      "metadata": {
        "id": "HoW79Mu8Hxlz"
      }
    },
    {
      "cell_type": "markdown",
      "source": [
        "#2.1 Data Inspection"
      ],
      "metadata": {
        "id": "bU14iSoBGO73"
      }
    },
    {
      "cell_type": "code",
      "source": [
        "import pandas as pd\n",
        "\n",
        "train = pd.read_csv(\"train_yelp_reviews(1).csv\", sep = \"\\t\", engine='python')"
      ],
      "metadata": {
        "id": "qEQ09mL8GLK3"
      },
      "execution_count": 51,
      "outputs": []
    },
    {
      "cell_type": "code",
      "source": [
        "train\n",
        "train_1 = train[train[\"label\"]==1]\n",
        "train_0 = train[train[\"label\"]==0]\n",
        "\n",
        "train[\"label\"].value_counts()\n",
        "\n",
        "from collections import Counter\n",
        "print(\"Most common words in positive reviews\")\n",
        "print(\"***************\")\n",
        "print(Counter(\" \".join(train_1[\"text\"]).split()).most_common(50))\n",
        "print()\n",
        "print(\"Most common words in negative reviews\")\n",
        "print(\"*****************\")\n",
        "print(Counter(\" \".join(train_0[\"text\"]).split()).most_common(50))"
      ],
      "metadata": {
        "colab": {
          "base_uri": "https://localhost:8080/"
        },
        "id": "Ocg5fvkkGT95",
        "outputId": "852e2628-e402-4d8a-b9d6-534c6e52d039"
      },
      "execution_count": 52,
      "outputs": [
        {
          "output_type": "stream",
          "name": "stdout",
          "text": [
            "Most common words in positive reviews\n",
            "***************\n",
            "[('and', 199), ('the', 186), ('was', 127), ('I', 97), ('is', 96), ('a', 95), ('The', 91), ('to', 79), ('of', 47), ('in', 44), ('this', 40), ('good', 38), ('place', 36), ('with', 35), ('for', 35), ('are', 34), ('had', 34), ('great', 34), ('very', 34), ('food', 32), ('were', 32), ('it', 32), ('have', 29), ('so', 29), ('you', 26), ('on', 24), ('This', 24), ('my', 23), ('but', 20), ('really', 19), ('service', 18), ('Great', 17), ('here', 17), ('all', 17), ('we', 17), ('time', 16), ('they', 16), ('that', 16), ('be', 16), ('good.', 15), ('friendly', 15), ('like', 15), ('our', 14), ('just', 14), ('as', 14), ('not', 13), ('also', 13), ('They', 13), ('an', 13), ('at', 12)]\n",
            "\n",
            "Most common words in negative reviews\n",
            "*****************\n",
            "[('the', 172), ('I', 155), ('and', 143), ('was', 136), ('to', 118), ('a', 109), ('not', 81), ('The', 74), ('of', 66), ('is', 59), ('for', 53), ('it', 43), ('this', 42), ('in', 42), ('food', 39), ('be', 38), ('that', 38), ('at', 34), ('but', 31), ('place', 30), ('with', 29), ('like', 28), ('my', 27), ('had', 26), ('so', 25), ('were', 25), ('are', 24), ('go', 24), ('have', 23), ('we', 22), ('very', 20), ('you', 19), ('our', 18), ('on', 18), ('It', 18), ('We', 17), (\"don't\", 17), ('service', 17), ('back', 17), ('they', 16), ('from', 16), ('time', 15), ('would', 15), ('just', 15), ('no', 15), ('This', 14), ('here', 14), ('your', 14), ('only', 14), ('there', 14)]\n"
          ]
        }
      ]
    },
    {
      "cell_type": "code",
      "source": [
        "sum(train_0[\"text\"].str.count(\"good\"))"
      ],
      "metadata": {
        "colab": {
          "base_uri": "https://localhost:8080/"
        },
        "id": "SFcF1fJsGZrh",
        "outputId": "503f17de-e8cb-4406-a0d0-748619d93765"
      },
      "execution_count": 53,
      "outputs": [
        {
          "output_type": "execute_result",
          "data": {
            "text/plain": [
              "20"
            ]
          },
          "metadata": {},
          "execution_count": 53
        }
      ]
    },
    {
      "cell_type": "markdown",
      "source": [
        "#2.2 Model Architecture and Training"
      ],
      "metadata": {
        "id": "a3GmQX-9Gg1D"
      }
    },
    {
      "cell_type": "code",
      "source": [
        "from sklearn.feature_extraction.text import ENGLISH_STOP_WORDS\n",
        "print(ENGLISH_STOP_WORDS)"
      ],
      "metadata": {
        "colab": {
          "base_uri": "https://localhost:8080/"
        },
        "id": "MlfSdyEdGgc1",
        "outputId": "c4382f17-3ce8-4db5-dbd4-2f6f5d885d51"
      },
      "execution_count": 54,
      "outputs": [
        {
          "output_type": "stream",
          "name": "stdout",
          "text": [
            "frozenset({'per', 'un', 'behind', 'after', 'seems', 'your', 'a', 'ltd', 'elsewhere', 'first', 'perhaps', 'they', 'many', 'sixty', 'of', 'system', 'inc', 'de', 'him', 'sincere', 'still', 'describe', 'eight', 'these', 'few', 'too', 'very', 'since', 'thru', 'and', 'himself', 'over', 'besides', 'may', 'seemed', 'six', 'which', 'part', 'rather', 'afterwards', 'somewhere', 'noone', 'together', 'now', 'anyhow', 'then', 'had', 'onto', 'call', 'cry', 'herself', 'into', 'some', 'twenty', 'own', 'ie', 'nobody', 'ours', 'has', 'full', 'to', 'nevertheless', 'interest', 'yourself', 'well', 'front', 'even', 'upon', 'do', 'either', 'thence', 'alone', 'an', 'i', 'except', 'wherever', 'fifteen', 'thereby', 'empty', 'down', 'ourselves', 'such', 'find', 'whether', 'but', 'former', 'amoungst', 'because', 'however', 'bill', 'cannot', 'themselves', 'could', 'hundred', 'through', 'for', 'etc', 'other', 'herein', 'go', 'wherein', 'third', 'next', 'in', 'already', 'from', 'mill', 'them', 'latterly', 'name', 'between', 'take', 'what', 'their', 'there', 'done', 'formerly', 'another', 'one', 'whereas', 'whatever', 'eleven', 'much', 'therefore', 'was', 'eg', 'or', 'yet', 'same', 'via', 'forty', 'up', 'at', 'hers', 'thereupon', 'co', 'every', 'the', 'although', 'on', 'below', 'both', 'put', 'thereafter', 'further', 'none', 'by', 'otherwise', 'how', 'ever', 'those', 'therein', 'so', 'moreover', 'being', 'it', 'nor', 'seem', 'five', 'this', 'above', 'beyond', 'where', 'amongst', 'top', 'nothing', 'us', 'became', 'keep', 'hence', 'neither', 'more', 'becomes', 'anyone', 'throughout', 'fill', 'you', 'fifty', 'twelve', 'found', 'least', 'during', 'might', 'must', 'often', 'whither', 'until', 'whose', 'latter', 'only', 'yours', 'anything', 'everyone', 'also', 'against', 'namely', 'somehow', 'seeming', 'have', 'anyway', 'about', 'were', 'side', 'hereby', 'been', 'within', 'whenever', 'are', 'be', 'ten', 'whereupon', 'please', 'me', 'thin', 'will', 'two', 'toward', 'all', 'cant', 'among', 'around', 'con', 'towards', 'bottom', 'amount', 'as', 'something', 'his', 'whence', 'not', 'while', 'with', 'no', 'nowhere', 'others', 'couldnt', 'move', 'serious', 'its', 'hereupon', 'less', 'mine', 'our', 'thus', 'last', 'become', 'who', 'each', 'everything', 'else', 'whereafter', 'here', 'four', 'why', 'fire', 'get', 'before', 'someone', 'see', 'most', 'again', 'when', 'should', 'whereby', 'am', 'everywhere', 'show', 'itself', 'give', 'without', 'along', 'off', 'her', 'across', 'beside', 'sometime', 'hereafter', 'never', 'yourselves', 'always', 'out', 'my', 'under', 'would', 'than', 'three', 'hasnt', 'thick', 'whom', 'can', 'several', 'is', 'that', 'anywhere', 'almost', 'any', 'if', 'due', 'she', 'whoever', 'myself', 'we', 'becoming', 'enough', 'mostly', 'indeed', 'meanwhile', 're', 'whole', 'once', 'detail', 'nine', 'though', 'he', 'back', 'made', 'beforehand', 'sometimes'})\n"
          ]
        }
      ]
    },
    {
      "cell_type": "code",
      "source": [
        "#TEXT PREPROCESSING\n",
        "import regex as re\n",
        "replace_w_space = re.compile('[/(){}\\[\\]\\|@,;]')\n",
        "remove_symbols = re.compile('[^0-9a-z #+_]')\n",
        "\n",
        "def text_cleaner(text):\n",
        "    '''\n",
        "    Takes as input a string\n",
        "    \n",
        "    Returns cleaned string (lowercase, no digits, no symbols)\n",
        "    \n",
        "    '''\n",
        "    text=text.lower()\n",
        "    text = replace_w_space.sub(' ', text) #replaces these with spaces\n",
        "    text = remove_symbols.sub('', text) #removes these digits and other symbols\n",
        "    \n",
        "    return text\n",
        "\n",
        "train['text'] = train[\"text\"].apply(text_cleaner)"
      ],
      "metadata": {
        "id": "XZm9IzXYGnen"
      },
      "execution_count": 55,
      "outputs": []
    },
    {
      "cell_type": "code",
      "source": [
        "def remove_stopwords(text):\n",
        "    words = [word for word in text.split() if word.lower() not in ENGLISH_STOP_WORDS]\n",
        "    new_text = \" \".join(words)\n",
        "    return new_text\n",
        "\n",
        "train[\"text\"] = train[\"text\"].apply(remove_stopwords)"
      ],
      "metadata": {
        "id": "Bvsz9psnGps8"
      },
      "execution_count": 56,
      "outputs": []
    },
    {
      "cell_type": "code",
      "source": [
        "train[\"text\"] #perfect"
      ],
      "metadata": {
        "colab": {
          "base_uri": "https://localhost:8080/"
        },
        "id": "AC0dRVuiGrom",
        "outputId": "ed2baa5e-5042-4a0f-8f6c-a5238ce02e32"
      },
      "execution_count": 57,
      "outputs": [
        {
          "output_type": "execute_result",
          "data": {
            "text/plain": [
              "0                  great time family dinner sunday night\n",
              "1                   classic maine lobster roll fantastic\n",
              "2                                             wont going\n",
              "3                                       say food amazing\n",
              "4                     food good service good prices good\n",
              "                             ...                        \n",
              "895                   guess maybe went night disgraceful\n",
              "896                      restaurant atmosphere exquisite\n",
              "897    sure order dessert need pack togo tiramisu can...\n",
              "898    serve just vinaigrette make better overall dis...\n",
              "899                                  strawberry tea good\n",
              "Name: text, Length: 900, dtype: object"
            ]
          },
          "metadata": {},
          "execution_count": 57
        }
      ]
    },
    {
      "cell_type": "code",
      "source": [
        "#tokenizing\n",
        "tokenizer = Tokenizer(num_words=1500)\n",
        "tokenizer.fit_on_texts(train[\"text\"])\n",
        "\n",
        "words_to_index = tokenizer.word_index\n",
        "print('Found %s unique tokens.' % len(words_to_index))"
      ],
      "metadata": {
        "colab": {
          "base_uri": "https://localhost:8080/"
        },
        "id": "5RmbzsZZGuzL",
        "outputId": "1a190a61-07a0-471c-bf14-45fb860e380c"
      },
      "execution_count": 58,
      "outputs": [
        {
          "output_type": "stream",
          "name": "stdout",
          "text": [
            "Found 1752 unique tokens.\n"
          ]
        }
      ]
    },
    {
      "cell_type": "code",
      "source": [
        "from keras.preprocessing.sequence import pad_sequences\n",
        "\n",
        "X = tokenizer.texts_to_sequences(train['text'].values)\n",
        "X = pad_sequences(X, maxlen=50)\n",
        "print('Shape of data tensor:', X.shape)\n",
        "\n",
        "Y = train[\"label\"]\n",
        "print('Shape of label tensor:', Y.shape)"
      ],
      "metadata": {
        "colab": {
          "base_uri": "https://localhost:8080/"
        },
        "id": "JUm_TIBnGxVC",
        "outputId": "d312048f-a8bf-41ee-ebf9-69a9f9fa68bf"
      },
      "execution_count": 59,
      "outputs": [
        {
          "output_type": "stream",
          "name": "stdout",
          "text": [
            "Shape of data tensor: (900, 50)\n",
            "Shape of label tensor: (900,)\n"
          ]
        }
      ]
    },
    {
      "cell_type": "code",
      "source": [
        "#train-test-split\n",
        "X_train, X_test, Y_train, Y_test = train_test_split(X,Y, test_size = 0.2, random_state = 42)\n",
        "print(X_train.shape,Y_train.shape)\n",
        "print(X_test.shape,Y_test.shape)"
      ],
      "metadata": {
        "colab": {
          "base_uri": "https://localhost:8080/"
        },
        "id": "m2ciEoQ6Gzhm",
        "outputId": "a04ef5b5-7bb6-43ed-9355-be54b799c2a3"
      },
      "execution_count": 60,
      "outputs": [
        {
          "output_type": "stream",
          "name": "stdout",
          "text": [
            "(720, 50) (720,)\n",
            "(180, 50) (180,)\n"
          ]
        }
      ]
    },
    {
      "cell_type": "code",
      "source": [
        "from keras.models import Sequential\n",
        "from keras.layers import Dense, Embedding, LSTM, SpatialDropout1D\n",
        "from sklearn.model_selection import train_test_split\n",
        "from keras.utils.np_utils import to_categorical\n",
        "from keras.callbacks import EarlyStopping\n",
        "from keras.layers import Dropout"
      ],
      "metadata": {
        "id": "_TH2DpQ9G1Pc"
      },
      "execution_count": 61,
      "outputs": []
    },
    {
      "cell_type": "code",
      "source": [
        "model = Sequential()\n",
        "model.add(Embedding(1500, 50, input_length=X.shape[1]))\n",
        "model.add(SpatialDropout1D(0.2))\n",
        "model.add(LSTM(50, dropout=0.2, recurrent_dropout=0.2))\n",
        "#model.add(LSTM(50, dropout=0.2, recurrent_dropout=0.2))\n",
        "model.add(Dense(1, activation='sigmoid'))\n",
        "model.compile(loss='binary_crossentropy', optimizer='adam', metrics=['accuracy'])\n",
        "\n",
        "epochs = 12\n",
        "batch_size = 64\n",
        "\n",
        "history = model.fit(X_train, Y_train, epochs=epochs, batch_size=batch_size,validation_split=0.1,callbacks=[EarlyStopping(monitor='val_loss', patience=3, min_delta=0.0001, verbose = 1)])"
      ],
      "metadata": {
        "colab": {
          "base_uri": "https://localhost:8080/"
        },
        "id": "nZ7kbdkyG3vE",
        "outputId": "49d63085-99ee-4f05-e536-467e8886b376"
      },
      "execution_count": 62,
      "outputs": [
        {
          "output_type": "stream",
          "name": "stdout",
          "text": [
            "Epoch 1/12\n",
            "11/11 [==============================] - 5s 131ms/step - loss: 0.6934 - accuracy: 0.4954 - val_loss: 0.6903 - val_accuracy: 0.5556\n",
            "Epoch 2/12\n",
            "11/11 [==============================] - 1s 86ms/step - loss: 0.6882 - accuracy: 0.6821 - val_loss: 0.6891 - val_accuracy: 0.6111\n",
            "Epoch 3/12\n",
            "11/11 [==============================] - 1s 95ms/step - loss: 0.6797 - accuracy: 0.8102 - val_loss: 0.6820 - val_accuracy: 0.7500\n",
            "Epoch 4/12\n",
            "11/11 [==============================] - 1s 89ms/step - loss: 0.6607 - accuracy: 0.8565 - val_loss: 0.6703 - val_accuracy: 0.6806\n",
            "Epoch 5/12\n",
            "11/11 [==============================] - 1s 89ms/step - loss: 0.6175 - accuracy: 0.8981 - val_loss: 0.6316 - val_accuracy: 0.7917\n",
            "Epoch 6/12\n",
            "11/11 [==============================] - 1s 97ms/step - loss: 0.5441 - accuracy: 0.8657 - val_loss: 0.5774 - val_accuracy: 0.8056\n",
            "Epoch 7/12\n",
            "11/11 [==============================] - 1s 87ms/step - loss: 0.4353 - accuracy: 0.9244 - val_loss: 0.5079 - val_accuracy: 0.8194\n",
            "Epoch 8/12\n",
            "11/11 [==============================] - 1s 92ms/step - loss: 0.3282 - accuracy: 0.9120 - val_loss: 0.4437 - val_accuracy: 0.8194\n",
            "Epoch 9/12\n",
            "11/11 [==============================] - 1s 95ms/step - loss: 0.2620 - accuracy: 0.9198 - val_loss: 0.4274 - val_accuracy: 0.8056\n",
            "Epoch 10/12\n",
            "11/11 [==============================] - 1s 90ms/step - loss: 0.2031 - accuracy: 0.9414 - val_loss: 0.4055 - val_accuracy: 0.7917\n",
            "Epoch 11/12\n",
            "11/11 [==============================] - 1s 90ms/step - loss: 0.1548 - accuracy: 0.9552 - val_loss: 0.4028 - val_accuracy: 0.8056\n",
            "Epoch 12/12\n",
            "11/11 [==============================] - 1s 89ms/step - loss: 0.1349 - accuracy: 0.9676 - val_loss: 0.3980 - val_accuracy: 0.8333\n"
          ]
        }
      ]
    },
    {
      "cell_type": "code",
      "source": [
        "accr = model.evaluate(X_test,Y_test)\n",
        "print('Test set\\n  Loss: {:0.3f}\\n  Accuracy: {:0.3f}'.format(accr[0],accr[1]))"
      ],
      "metadata": {
        "colab": {
          "base_uri": "https://localhost:8080/"
        },
        "id": "DK7HMe52G7d-",
        "outputId": "d6f3963d-40eb-4d49-8163-a2e716c7731b"
      },
      "execution_count": 63,
      "outputs": [
        {
          "output_type": "stream",
          "name": "stdout",
          "text": [
            "6/6 [==============================] - 0s 12ms/step - loss: 0.5987 - accuracy: 0.7389\n",
            "Test set\n",
            "  Loss: 0.599\n",
            "  Accuracy: 0.739\n"
          ]
        }
      ]
    },
    {
      "cell_type": "code",
      "source": [
        "plt.title('Loss')\n",
        "plt.plot(history.history['loss'], label='train')\n",
        "plt.plot(history.history['val_loss'], label='test')\n",
        "plt.legend()\n",
        "plt.show();"
      ],
      "metadata": {
        "colab": {
          "base_uri": "https://localhost:8080/",
          "height": 281
        },
        "id": "yq3AWboiG_m2",
        "outputId": "4c1a305b-10f8-494f-fdf3-3b4dc4bb2e24"
      },
      "execution_count": 64,
      "outputs": [
        {
          "output_type": "display_data",
          "data": {
            "text/plain": [
              "<Figure size 432x288 with 1 Axes>"
            ],
            "image/png": "[encoded data removed]"
          },
          "metadata": {
            "needs_background": "light"
          }
        }
      ]
    },
    {
      "cell_type": "markdown",
      "source": [
        "#Predictions"
      ],
      "metadata": {
        "id": "dTmioOy_HCjA"
      }
    },
    {
      "cell_type": "code",
      "source": [
        "test_yelp = pd.read_csv(\"Downloads/test_yelp_reviews.csv\", sep = \"\\t\", engine = \"python\")\n",
        "\n",
        "test_yelp.head()"
      ],
      "metadata": {
        "id": "lPqKOh_xHEOQ"
      },
      "execution_count": null,
      "outputs": []
    },
    {
      "cell_type": "code",
      "source": [
        "#preprocessing\n",
        "test_yelp['text'] = test_yelp[\"text\"].apply(text_cleaner)\n",
        "test_yelp[\"text\"] = test_yelp[\"text\"].apply(remove_stopwords)\n",
        "test_yelp.head()"
      ],
      "metadata": {
        "id": "WJog5TkxHF3Y"
      },
      "execution_count": null,
      "outputs": []
    },
    {
      "cell_type": "code",
      "source": [
        "#tokenizing\n",
        "tokenizer = Tokenizer(num_words=1500)\n",
        "tokenizer.fit_on_texts(test_yelp[\"text\"])\n",
        "\n",
        "words_to_index = tokenizer.word_index\n",
        "print('Found %s unique tokens.' % len(words_to_index))"
      ],
      "metadata": {
        "id": "ObzxALBaHHvI"
      },
      "execution_count": null,
      "outputs": []
    },
    {
      "cell_type": "code",
      "source": [
        "X = tokenizer.texts_to_sequences(test_yelp['text'].values)\n",
        "X = pad_sequences(X, maxlen=50)\n",
        "print('Shape of data tensor:', X.shape)"
      ],
      "metadata": {
        "id": "LHafaFgbHJGw"
      },
      "execution_count": null,
      "outputs": []
    },
    {
      "cell_type": "code",
      "source": [
        "y_pred = model.predict(X)\n",
        "y_pred = y_pred.tolist()"
      ],
      "metadata": {
        "id": "mPDAunH3HK83"
      },
      "execution_count": null,
      "outputs": []
    },
    {
      "cell_type": "code",
      "source": [
        "preds = []\n",
        "for i in range(len(y_pred)):\n",
        "    preds.append(y_pred[i][0])"
      ],
      "metadata": {
        "id": "TJSL2UeIHLfI"
      },
      "execution_count": null,
      "outputs": []
    },
    {
      "cell_type": "code",
      "source": [
        "pred_labels = [1 if x>0.5 else 0 for x in preds]\n",
        "pred_labels"
      ],
      "metadata": {
        "id": "zDTT8nJ8HNzs"
      },
      "execution_count": null,
      "outputs": []
    },
    {
      "cell_type": "code",
      "source": [
        "import csv\n",
        "with open('f0036rd_LSTM_predictions.csv', 'w', newline = '') as csvfile:\n",
        "    my_writer = csv.writer(csvfile, delimiter = ' ')\n",
        "    my_writer.writerow(pred_labels)"
      ],
      "metadata": {
        "id": "6RK5fCLQHP4w"
      },
      "execution_count": null,
      "outputs": []
    }
  ]
}